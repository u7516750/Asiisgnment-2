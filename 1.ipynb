{
  "nbformat": 4,
  "nbformat_minor": 0,
  "metadata": {
    "colab": {
      "provenance": []
    },
    "kernelspec": {
      "name": "python3",
      "display_name": "Python 3"
    },
    "language_info": {
      "name": "python"
    }
  },
  "cells": [
    {
      "cell_type": "code",
      "execution_count": null,
      "metadata": {
        "id": "DCDPvHsnFk4V"
      },
      "outputs": [],
      "source": [
        "import math"
      ]
    },
    {
      "cell_type": "code",
      "source": [
        "from astropy import units as u"
      ],
      "metadata": {
        "id": "cq1D3aisHj__"
      },
      "execution_count": null,
      "outputs": []
    },
    {
      "cell_type": "code",
      "source": [
        "l= 0.5* u.cm\n",
        "l"
      ],
      "metadata": {
        "colab": {
          "base_uri": "https://localhost:8080/",
          "height": 37
        },
        "id": "168upb7rHMCL",
        "outputId": "f889b471-77f5-4f8e-cfd9-90b55859f54a"
      },
      "execution_count": null,
      "outputs": [
        {
          "output_type": "execute_result",
          "data": {
            "text/plain": [
              "<Quantity 0.5 cm>"
            ],
            "text/latex": "$0.5 \\; \\mathrm{cm}$"
          },
          "metadata": {},
          "execution_count": 5
        }
      ]
    },
    {
      "cell_type": "code",
      "source": [
        "l=l.to(u.meter)\n",
        "l"
      ],
      "metadata": {
        "colab": {
          "base_uri": "https://localhost:8080/",
          "height": 37
        },
        "id": "xm-cJAFWIk2h",
        "outputId": "5b5d97a3-8949-4759-f634-7576eb8b5406"
      },
      "execution_count": null,
      "outputs": [
        {
          "output_type": "execute_result",
          "data": {
            "text/plain": [
              "<Quantity 0.005 m>"
            ],
            "text/latex": "$0.005 \\; \\mathrm{m}$"
          },
          "metadata": {},
          "execution_count": 10
        }
      ]
    },
    {
      "cell_type": "code",
      "source": [
        "k= 4.5*math.pow(10,6)*u.K\n",
        "k"
      ],
      "metadata": {
        "colab": {
          "base_uri": "https://localhost:8080/",
          "height": 37
        },
        "id": "5apbBv7KJRPF",
        "outputId": "b0e4d41a-399d-41b2-c29c-0c8426e3ea92"
      },
      "execution_count": null,
      "outputs": [
        {
          "output_type": "execute_result",
          "data": {
            "text/plain": [
              "<Quantity 4500000. K>"
            ],
            "text/latex": "$4500000 \\; \\mathrm{K}$"
          },
          "metadata": {},
          "execution_count": 13
        }
      ]
    },
    {
      "cell_type": "code",
      "source": [
        "from astropy.constants import c\n",
        "c"
      ],
      "metadata": {
        "colab": {
          "base_uri": "https://localhost:8080/",
          "height": 38
        },
        "id": "CJKb6Ej3KHxi",
        "outputId": "e1ac0a17-ab68-4dde-b9b6-7dd78e638a41"
      },
      "execution_count": null,
      "outputs": [
        {
          "output_type": "execute_result",
          "data": {
            "text/plain": [
              "<<class 'astropy.constants.codata2018.CODATA2018'> name='Speed of light in vacuum' value=299792458.0 uncertainty=0.0 unit='m / s' reference='CODATA 2018'>"
            ],
            "text/latex": "$2.9979246 \\times 10^{8} \\; \\mathrm{\\frac{m}{s}}$"
          },
          "metadata": {},
          "execution_count": 14
        }
      ]
    },
    {
      "cell_type": "code",
      "source": [
        "st= 5.670*math.pow(10, -8)*(u.W/((u.meter**2)*(u.K**4)))\n",
        "st"
      ],
      "metadata": {
        "colab": {
          "base_uri": "https://localhost:8080/",
          "height": 38
        },
        "id": "j36Oyc6JK5Vb",
        "outputId": "6c8fc498-5162-4cbe-bcc7-9ea3a12e49c9"
      },
      "execution_count": null,
      "outputs": [
        {
          "output_type": "execute_result",
          "data": {
            "text/plain": [
              "<Quantity 5.67e-08 W / (K4 m2)>"
            ],
            "text/latex": "$5.67 \\times 10^{-8} \\; \\mathrm{\\frac{W}{m^{2}\\,K^{4}}}$"
          },
          "metadata": {},
          "execution_count": 15
        }
      ]
    },
    {
      "cell_type": "code",
      "source": [
        "4*math.pi*math.pow(4500000,4)*(2.9979246*math.pow(10,8))*(5.670*math.pow(10, -8))*(0.005)"
      ],
      "metadata": {
        "colab": {
          "base_uri": "https://localhost:8080/"
        },
        "id": "idz4Dt9dFoqd",
        "outputId": "a7f6c421-bb1a-4f5f-c2e1-f689c9a9e3d4"
      },
      "execution_count": null,
      "outputs": [
        {
          "output_type": "execute_result",
          "data": {
            "text/plain": [
              "4.379592346764551e+26"
            ]
          },
          "metadata": {},
          "execution_count": 21
        }
      ]
    },
    {
      "cell_type": "code",
      "source": [],
      "metadata": {
        "id": "TJgQNzZBLxiX"
      },
      "execution_count": null,
      "outputs": []
    }
  ]
}