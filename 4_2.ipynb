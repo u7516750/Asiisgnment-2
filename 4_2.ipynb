{
  "nbformat": 4,
  "nbformat_minor": 0,
  "metadata": {
    "colab": {
      "provenance": []
    },
    "kernelspec": {
      "name": "python3",
      "display_name": "Python 3"
    },
    "language_info": {
      "name": "python"
    }
  },
  "cells": [
    {
      "cell_type": "code",
      "execution_count": null,
      "metadata": {
        "id": "U7Mdl2g6yOyc"
      },
      "outputs": [],
      "source": [
        "import math\n",
        "import astropy\n",
        "import pandas as pd"
      ]
    },
    {
      "cell_type": "code",
      "source": [
        "e= 4.8*math.pow(10, -10)\n",
        "m_e= 9.1*math.pow(10, -28)\n",
        "c= 3*math.pow(10,10)\n"
      ],
      "metadata": {
        "id": "obVKrae0yWCH"
      },
      "execution_count": null,
      "outputs": []
    },
    {
      "cell_type": "code",
      "source": [
        "def f(B, v):\n",
        "  r= 2*math.pi*m_e*c*v/(e*B)\n",
        "  return math.pow(r, 0.5)\n"
      ],
      "metadata": {
        "id": "GV76y9MhziBo"
      },
      "execution_count": null,
      "outputs": []
    },
    {
      "cell_type": "code",
      "source": [
        "l= 10*math.pow(10,6)\n",
        "b= 300*math.pow(10,-6)"
      ],
      "metadata": {
        "id": "aUPIRvqA0icv"
      },
      "execution_count": null,
      "outputs": []
    },
    {
      "cell_type": "code",
      "source": [
        "f(b,l)"
      ],
      "metadata": {
        "colab": {
          "base_uri": "https://localhost:8080/"
        },
        "id": "aye0vp5s00_z",
        "outputId": "d133e51f-e723-4755-98ed-6a37af9e6f35"
      },
      "execution_count": null,
      "outputs": [
        {
          "output_type": "execute_result",
          "data": {
            "text/plain": [
              "8370.772732922745"
            ]
          },
          "metadata": {},
          "execution_count": 6
        }
      ]
    },
    {
      "cell_type": "code",
      "source": [
        "f(b,l)"
      ],
      "metadata": {
        "colab": {
          "base_uri": "https://localhost:8080/"
        },
        "id": "zd2fkob804oK",
        "outputId": "82a3ee15-901a-41cf-f7b1-d2d30b20f4b1"
      },
      "execution_count": null,
      "outputs": [
        {
          "output_type": "execute_result",
          "data": {
            "text/plain": [
              "109.14152346774942"
            ]
          },
          "metadata": {},
          "execution_count": 8
        }
      ]
    },
    {
      "cell_type": "code",
      "source": [
        "def b(r):\n",
        "  k= math.pow(r,2)\n",
        "  g=1+(1/k)\n",
        "  return math.pow(g,0.5)"
      ],
      "metadata": {
        "id": "7mBmKQ841GCk"
      },
      "execution_count": null,
      "outputs": []
    },
    {
      "cell_type": "code",
      "source": [
        "b(109.14)"
      ],
      "metadata": {
        "colab": {
          "base_uri": "https://localhost:8080/"
        },
        "id": "kEXpxYVd6qDj",
        "outputId": "14fb1b2f-48f8-4c91-900e-d062b72b734d"
      },
      "execution_count": null,
      "outputs": [
        {
          "output_type": "execute_result",
          "data": {
            "text/plain": [
              "1.0000419752209375"
            ]
          },
          "metadata": {},
          "execution_count": 18
        }
      ]
    },
    {
      "cell_type": "code",
      "source": [
        "b(8371)"
      ],
      "metadata": {
        "colab": {
          "base_uri": "https://localhost:8080/"
        },
        "id": "4j3gJFdz7q6g",
        "outputId": "bbf0c0ef-41cf-487e-f899-55452fbfa614"
      },
      "execution_count": null,
      "outputs": [
        {
          "output_type": "execute_result",
          "data": {
            "text/plain": [
              "1.0000000071353505"
            ]
          },
          "metadata": {},
          "execution_count": 19
        }
      ]
    },
    {
      "cell_type": "code",
      "source": [
        "T= 6.6 *math.pow(10, -25)"
      ],
      "metadata": {
        "id": "YG64z_XT9_WQ"
      },
      "execution_count": null,
      "outputs": []
    },
    {
      "cell_type": "code",
      "source": [
        "def age(ga, B):\n",
        "  t= 6*math.pi*m_e*c/(T*ga*B*B)\n",
        "  return t"
      ],
      "metadata": {
        "id": "T-sIshBV9ZOH"
      },
      "execution_count": null,
      "outputs": []
    },
    {
      "cell_type": "code",
      "source": [
        "age(109.14,b )"
      ],
      "metadata": {
        "colab": {
          "base_uri": "https://localhost:8080/"
        },
        "id": "IEZUqA_B74lW",
        "outputId": "78d5df56-d2a0-478f-c81b-f318ab282fc8"
      },
      "execution_count": null,
      "outputs": [
        {
          "output_type": "execute_result",
          "data": {
            "text/plain": [
              "79376761423101.6"
            ]
          },
          "metadata": {},
          "execution_count": 26
        }
      ]
    },
    {
      "cell_type": "code",
      "source": [],
      "metadata": {
        "id": "PExYBBhl-jNg"
      },
      "execution_count": null,
      "outputs": []
    }
  ]
}