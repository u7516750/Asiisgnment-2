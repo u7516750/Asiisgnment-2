{
  "nbformat": 4,
  "nbformat_minor": 0,
  "metadata": {
    "colab": {
      "provenance": []
    },
    "kernelspec": {
      "name": "python3",
      "display_name": "Python 3"
    },
    "language_info": {
      "name": "python"
    }
  },
  "cells": [
    {
      "cell_type": "code",
      "source": [
        "import math"
      ],
      "metadata": {
        "id": "1xADhy-XpRjJ"
      },
      "execution_count": null,
      "outputs": []
    },
    {
      "cell_type": "code",
      "source": [
        "def g(F_1,d):\n",
        "  p= (1*math.pow(10,9))/(20* 2.418*math.pow(10,17))\n",
        "  F_2= F_1/(math.pow(p,-0.3))\n",
        "  L= 4*math.pi*d*d*F_2*(20* 2.418*math.pow(10,17))\n",
        "  return L"
      ],
      "metadata": {
        "id": "PrlGBelepS5y"
      },
      "execution_count": null,
      "outputs": []
    },
    {
      "cell_type": "code",
      "source": [
        "g(1*math.pow(10,-20), 6.171*math.pow(10,21))"
      ],
      "metadata": {
        "colab": {
          "base_uri": "https://localhost:8080/"
        },
        "id": "GcVl76tAszKs",
        "outputId": "e9a80e94-53dd-4b4b-da0f-fba7df823a72"
      },
      "execution_count": null,
      "outputs": [
        {
          "output_type": "execute_result",
          "data": {
            "text/plain": [
              "(2.877804990520562e+40, 1.2435238304274775e-23)"
            ]
          },
          "metadata": {},
          "execution_count": 31
        }
      ]
    },
    {
      "cell_type": "code",
      "source": [
        "l=g(1*math.pow(10,-20), 6.171*math.pow(10,21))\n",
        "l"
      ],
      "metadata": {
        "colab": {
          "base_uri": "https://localhost:8080/"
        },
        "id": "ppoIdUT7qMLE",
        "outputId": "e511c346-9743-4972-e06b-4120c3227ecf"
      },
      "execution_count": null,
      "outputs": [
        {
          "output_type": "execute_result",
          "data": {
            "text/plain": [
              "2.877804990520562e+40"
            ]
          },
          "metadata": {},
          "execution_count": 28
        }
      ]
    },
    {
      "cell_type": "code",
      "source": [
        "L_0= 3.8*math.pow(10, 33)\n",
        "L_0"
      ],
      "metadata": {
        "colab": {
          "base_uri": "https://localhost:8080/"
        },
        "id": "gJeUAVbnqly3",
        "outputId": "20c7a0b8-706e-4a7d-bd67-5f62560a74c0"
      },
      "execution_count": null,
      "outputs": [
        {
          "output_type": "execute_result",
          "data": {
            "text/plain": [
              "3.7999999999999994e+33"
            ]
          },
          "metadata": {},
          "execution_count": 27
        }
      ]
    },
    {
      "cell_type": "code",
      "source": [
        "l/L_0"
      ],
      "metadata": {
        "colab": {
          "base_uri": "https://localhost:8080/"
        },
        "id": "YKUX5jYzq8oK",
        "outputId": "bc812301-8c6a-408e-ac37-ddb5517f50a4"
      },
      "execution_count": null,
      "outputs": [
        {
          "output_type": "execute_result",
          "data": {
            "text/plain": [
              "7573171.027685691"
            ]
          },
          "metadata": {},
          "execution_count": 29
        }
      ]
    },
    {
      "cell_type": "code",
      "source": [],
      "metadata": {
        "id": "ITEY-rherGty"
      },
      "execution_count": null,
      "outputs": []
    }
  ]
}